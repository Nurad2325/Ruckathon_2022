{
 "cells": [
  {
   "cell_type": "code",
   "execution_count": 37,
   "metadata": {},
   "outputs": [],
   "source": [
    "\n",
    "##### --------------------------------------------------------------- ####\n",
    "#### Adaptive scheduling 2.0 : Can we do intelligent wifi scheduling? ####\n",
    "##### ----------------------------------------------------------------####\n",
    "\n"
   ]
  },
  {
   "cell_type": "code",
   "execution_count": 38,
   "metadata": {},
   "outputs": [],
   "source": [
    "# Import header files\n",
    "\n",
    "import re\n",
    "import ast\n",
    "import pandas as pd\n",
    "import collections\n",
    "import numpy as np\n",
    "from sklearn.datasets import make_blobs\n",
    "from sklearn.utils import shuffle\n",
    "import hdbscan\n",
    "import umap\n",
    "import matplotlib.pyplot as plt\n",
    "%matplotlib inline\n",
    "\n",
    "# Initialize objects\n",
    "clusterer = hdbscan.HDBSCAN()\n"
   ]
  },
  {
   "cell_type": "code",
   "execution_count": 39,
   "metadata": {},
   "outputs": [],
   "source": [
    "# Read and parse wifistats log file\n",
    "\n",
    "files_to_parse_tx = [\n",
    "    \"wifistats1_9.log\",\n",
    "]\n",
    "files_to_parse_rx = [\n",
    "    \"wifistats2_10.log\",\n",
    "]\n",
    "\n",
    "stats_tags_tx = [\n",
    "    \"msdu_count_tqm\",\n",
    "    \"mpdu_count_tqm\",\n",
    "    \"num_data_ppdus_tried_ota\",\n",
    "    \"tx_xretry\",\n",
    "    \"mpdus_ack_failed\",\n",
    "    \"tx_time_dur_data\",\n",
    "]\n",
    "\n",
    "stats_tags_tx_array = [\n",
    "    \"tx_mcs\",\n",
    "    \"ac_mu_mimo_tx_mcs\",\n",
    "    \"ax_mu_mimo_tx_mcs\",\n",
    "    \"ofdma_tx_mcs\",\n",
    "]\n",
    "\n",
    "stats_tags_rx = [\n",
    "    \"ppdu_recvd\",\n",
    "    \"mpdu_cnt_fcs_ok\",\n",
    "    \"mpdu_cnt_fcs_err\",\n",
    "    \"tcp_msdu_cnt\",\n",
    "    \"tcp_ack_msdu_cnt\",\n",
    "    \"udp_msdu_cnt\",\n",
    "    \"other_msdu_cnt\",\n",
    "\n",
    "]\n",
    "\n",
    "stats_tags_rx_array = [\n",
    "    \"rx_mcs\",\n",
    "    \"ul_ofdma_rx_mcs\",\n",
    "    \"rx_ulofdma_non_data_ppdu\",\n",
    "    \"rx_ulofdma_data_ppdu\",\n",
    "    \"rx_ulofdma_mpdu_ok\",\n",
    "    \"rx_ulofdma_mpdu_fail\",\n",
    "]\n",
    "\n",
    "w_tx = \"\\\\b(\"+\")\\\\b\\\\s+=\\\\s+(\\\\S+.*$)|\\\\b(\".join(stats_tags_tx)+\")\\\\b\\\\s+=\\\\s+(\\\\S+.*$)\"\n",
    "w_tx_array = \"\\\\b(\"+\")\\\\b\\\\s+=\\\\s+(\\\\S+.*$)|\\\\b(\".join(stats_tags_tx_array)+\")\\\\b\\\\s+=\\\\s+(\\\\S+.*$)\"\n",
    "w_rx = \"\\\\b(\"+\")\\\\b\\\\s+=\\\\s+(\\\\S+.*$)|\\\\b(\".join(stats_tags_rx)+\")\\\\b\\\\s+=\\\\s+(\\\\S+.*$)\"\n",
    "w_rx_array = \"\\\\b(\"+\")\\\\b\\\\s+=\\\\s+(\\\\S+.*$)|\\\\b(\".join(stats_tags_rx_array)+\")\\\\b\\\\s+=\\\\s+(\\\\S+.*$)\"\n",
    "#print(w_rx_array)\n",
    "re_tx = re.compile(r'%s'%w_tx, re.IGNORECASE)\n",
    "re_tx_array = re.compile(r'%s'%w_tx_array, re.IGNORECASE)\n",
    "re_rx = re.compile(r'%s'%w_rx, re.IGNORECASE)\n",
    "re_rx_array = re.compile(r'%s'%w_rx_array, re.IGNORECASE)\n",
    "re_item_sep = re.compile(r'.*UTC 2022.*')\n",
    "#chk = \"{\"+\"-2:0,-1:0, 0:0, 1:0, 2:0, 3:0, 4:0, 5:272, 6:314, 7:352, 8:146, 9:1952, 10:138, 11:133, 12:0, 13:0, \"+\"}\"\n",
    "#ast.literal_eval(chk)\n",
    "\n"
   ]
  },
  {
   "cell_type": "code",
   "execution_count": 40,
   "metadata": {},
   "outputs": [
    {
     "name": "stdout",
     "output_type": "stream",
     "text": [
      "    msdu_count_tqm mpdu_count_tqm num_data_ppdus_tried_ota tx_xretry  \\\n",
      "1               48             29                       36        31   \n",
      "2               64             52                       65        29   \n",
      "3               48             35                       45        21   \n",
      "4              163            103                      119        87   \n",
      "5              156            116                      115        84   \n",
      "..             ...            ...                      ...       ...   \n",
      "850             42             29                       30        25   \n",
      "851             15             13                       16        12   \n",
      "852             79             53                       82        73   \n",
      "853             58             41                       62        50   \n",
      "854             36             26                       88        86   \n",
      "\n",
      "    mpdus_ack_failed tx_time_dur_data  \n",
      "1                 39            11601  \n",
      "2                 29            13871  \n",
      "3                 16            10021  \n",
      "4                104            35694  \n",
      "5                 92            35757  \n",
      "..               ...              ...  \n",
      "850               10            39942  \n",
      "851               11             8046  \n",
      "852               64            36480  \n",
      "853               32            28877  \n",
      "854               69            39652  \n",
      "\n",
      "[854 rows x 6 columns]\n",
      "    ppdu_recvd mpdu_cnt_fcs_ok mpdu_cnt_fcs_err tcp_msdu_cnt tcp_ack_msdu_cnt  \\\n",
      "1          198             166               32            0                0   \n",
      "2          233             202               44            0                0   \n",
      "3          264             217               47            0                0   \n",
      "4          224             176               48            0                0   \n",
      "5          235             184               55            2               14   \n",
      "..         ...             ...              ...          ...              ...   \n",
      "849        293             253               40            0                0   \n",
      "850        267             231               36            0                0   \n",
      "851        261             236               26            0               10   \n",
      "852        284             258               32            1               10   \n",
      "853        248             215               33            0                1   \n",
      "\n",
      "    udp_msdu_cnt other_msdu_cnt  \n",
      "1              0            166  \n",
      "2             36            166  \n",
      "3              0            217  \n",
      "4              7            169  \n",
      "5              5            167  \n",
      "..           ...            ...  \n",
      "849            0            253  \n",
      "850            2            229  \n",
      "851            0            226  \n",
      "852            4            243  \n",
      "853            0            214  \n",
      "\n",
      "[853 rows x 7 columns]\n"
     ]
    }
   ],
   "source": [
    "df_tx = pd.DataFrame(columns=stats_tags_tx)\n",
    "df_rx = pd.DataFrame(columns=stats_tags_rx)\n",
    "\n",
    "count = 0\n",
    "for file_name in files_to_parse_tx:\n",
    "    stats_file = open(file_name, \"r\")\n",
    "    item = {}\n",
    "    for line in stats_file:\n",
    "        mth = re_tx.match(line)\n",
    "        sep_match = re_item_sep.match(line)\n",
    "        if sep_match:\n",
    "            if count != 0:\n",
    "                pdf = pd.DataFrame(item,columns=stats_tags_tx,index=[count])\n",
    "                df_tx = pd.concat([df_tx,pdf])\n",
    "            item = {}\n",
    "            count += 1\n",
    "        if mth:\n",
    "            g = mth.groups()\n",
    "            t = list(filter(None,g))\n",
    "            item[t[0]] = int(t[1])       \n",
    "\n",
    "count = 0\n",
    "for file_name in files_to_parse_rx:\n",
    "    stats_file = open(file_name, \"r\")\n",
    "    item = {}\n",
    "    for line in stats_file:\n",
    "        mth = re_rx.match(line)\n",
    "        sep_match = re_item_sep.match(line)\n",
    "        if sep_match:\n",
    "            if count != 0:\n",
    "                pdf = pd.DataFrame(item,columns=stats_tags_rx,index=[count])\n",
    "                df_rx = pd.concat([df_rx,pdf])\n",
    "            item = {}\n",
    "            count += 1\n",
    "        if mth:\n",
    "            g = mth.groups()\n",
    "            t = list(filter(None,g))\n",
    "            item[t[0]] = int(t[1])       \n",
    "        #if count == 10:\n",
    "            #break\n",
    "print(df_tx) # Tx stats dataframe\n",
    "print(df_rx) # Rx stats dataframe"
   ]
  },
  {
   "cell_type": "code",
   "execution_count": 45,
   "metadata": {},
   "outputs": [
    {
     "name": "stdout",
     "output_type": "stream",
     "text": [
      "  msdu_count_tqm mpdu_count_tqm num_data_ppdus_tried_ota tx_xretry  \\\n",
      "1             48             29                       36        31   \n",
      "2             64             52                       65        29   \n",
      "3             48             35                       45        21   \n",
      "4            163            103                      119        87   \n",
      "5            156            116                      115        84   \n",
      "\n",
      "  mpdus_ack_failed tx_time_dur_data  \n",
      "1               39            11601  \n",
      "2               29            13871  \n",
      "3               16            10021  \n",
      "4              104            35694  \n",
      "5               92            35757  \n"
     ]
    },
    {
     "data": {
      "text/plain": [
       "45"
      ]
     },
     "execution_count": 45,
     "metadata": {},
     "output_type": "execute_result"
    }
   ],
   "source": [
    "# Sample dataset\n",
    "# blobs, labels = make_blobs(n_samples=2000, n_features=100)\n",
    "#df = pd.DataFrame(blobs)\n",
    "\n",
    "\n",
    "df = df_tx\n",
    "#df.append(df_rx) - Can be used if any Uplink traffic is running.\n",
    "print(df.head())\n",
    "#df = shuffle(df)\n",
    "\n",
    "clusterer.fit(df)\n",
    "hdbscan.HDBSCAN(algorithm='best', alpha=1.0, approx_min_span_tree=True,\n",
    "    gen_min_span_tree=False, leaf_size=40,\n",
    "    metric='euclidean', min_cluster_size=300, min_samples=None, p=None)\n",
    "clusterer.labels_\n",
    "clusterer.labels_.max()\n"
   ]
  },
  {
   "cell_type": "code",
   "execution_count": 46,
   "metadata": {},
   "outputs": [],
   "source": [
    "# Since the dataset is multidimensional, in order to visaulize we transform into 2 dimensions using UMAP \n",
    "# UMAP: Uniform Manifold Approximation and Projection for Dimension Reduction\n",
    "\n",
    "standard_embedding = umap.UMAP(random_state=42).fit_transform(df)\n"
   ]
  },
  {
   "cell_type": "code",
   "execution_count": 49,
   "metadata": {},
   "outputs": [],
   "source": [
    "clusterable_embedding = umap.UMAP(\n",
    "    n_neighbors=30,\n",
    "    min_dist=0.0,\n",
    "    n_components=2,\n",
    "    random_state=42,\n",
    ").fit_transform(df)\n",
    "\n",
    "labels = hdbscan.HDBSCAN(\n",
    "    min_samples=10,\n",
    "    min_cluster_size=200,\n",
    ").fit_predict(clusterable_embedding)\n",
    "#print(labels)"
   ]
  },
  {
   "cell_type": "code",
   "execution_count": 50,
   "metadata": {},
   "outputs": [
    {
     "data": {
      "image/png": "[encoded data removed]",
      "text/plain": [
       "<Figure size 432x288 with 1 Axes>"
      ]
     },
     "metadata": {
      "needs_background": "light"
     },
     "output_type": "display_data"
    }
   ],
   "source": [
    "clustered = (labels >= 0)\n",
    "#print(clustered)\n",
    "# plt.scatter(standard_embedding[~clustered, 0],\n",
    "#             standard_embedding[~clustered, 1],\n",
    "#             color=(0.5, 0.5, 0.5),\n",
    "#             s=0.1,\n",
    "#             alpha=0.5)\n",
    "plt.scatter(standard_embedding[clustered, 0],\n",
    "            standard_embedding[clustered, 1],\n",
    "            c=labels[clustered],\n",
    "            s=0.1,\n",
    "            cmap='viridis');"
   ]
  },
  {
   "cell_type": "code",
   "execution_count": null,
   "metadata": {},
   "outputs": [],
   "source": []
  }
 ],
 "metadata": {
  "kernelspec": {
   "display_name": "Python 3",
   "language": "python",
   "name": "python3"
  },
  "language_info": {
   "codemirror_mode": {
    "name": "ipython",
    "version": 3
   },
   "file_extension": ".py",
   "mimetype": "text/x-python",
   "name": "python",
   "nbconvert_exporter": "python",
   "pygments_lexer": "ipython3",
   "version": "3.8.5"
  }
 },
 "nbformat": 4,
 "nbformat_minor": 4
}
