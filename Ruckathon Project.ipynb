{
 "cells": [
  {
   "cell_type": "code",
   "execution_count": 14,
   "metadata": {},
   "outputs": [],
   "source": [
    "\n",
    "##### --------------------------------------------------------------- ####\n",
    "#### Adaptive scheduling 2.0 : Can we do intelligent wifi scheduling? ####\n",
    "##### ----------------------------------------------------------------####\n",
    "\n"
   ]
  },
  {
   "cell_type": "code",
   "execution_count": 44,
   "metadata": {},
   "outputs": [],
   "source": [
    "# Import header files\n",
    "\n",
    "import pandas as pd\n",
    "import collections\n",
    "import numpy as np\n",
    "from sklearn.datasets import make_blobs\n",
    "import hdbscan\n",
    "import umap\n",
    "import matplotlib.pyplot as plt\n",
    "%matplotlib inline\n",
    "\n",
    "# Initialize objects\n",
    "clusterer = hdbscan.HDBSCAN()\n"
   ]
  },
  {
   "cell_type": "code",
   "execution_count": 74,
   "metadata": {},
   "outputs": [
    {
     "name": "stdout",
     "output_type": "stream",
     "text": [
      "                      wifistats1 wifi1\n",
      "0           HTT_TX_PDEV_STATS_CMN_TLV:\n",
      "1                           wifistats2\n",
      "2                  # wifistats wifi1 2\n",
      "3            HTT_RX_PDEV_FW_STATS_TLV:\n",
      "4  HTT_RX_PDEV_FW_RING_MPDU_ERR_TLV_V:\n"
     ]
    },
    {
     "name": "stderr",
     "output_type": "stream",
     "text": [
      "b'Skipping line 5: expected 1 fields, saw 2\\nSkipping line 6: expected 1 fields, saw 2\\nSkipping line 7: expected 1 fields, saw 2\\nSkipping line 8: expected 1 fields, saw 2\\nSkipping line 9: expected 1 fields, saw 2\\nSkipping line 10: expected 1 fields, saw 2\\nSkipping line 11: expected 1 fields, saw 2\\nSkipping line 12: expected 1 fields, saw 2\\nSkipping line 13: expected 1 fields, saw 2\\nSkipping line 14: expected 1 fields, saw 2\\nSkipping line 15: expected 1 fields, saw 2\\nSkipping line 16: expected 1 fields, saw 2\\nSkipping line 17: expected 1 fields, saw 2\\nSkipping line 18: expected 1 fields, saw 2\\nSkipping line 19: expected 1 fields, saw 2\\nSkipping line 20: expected 1 fields, saw 2\\nSkipping line 21: expected 1 fields, saw 2\\nSkipping line 22: expected 1 fields, saw 2\\nSkipping line 23: expected 1 fields, saw 2\\nSkipping line 24: expected 1 fields, saw 2\\nSkipping line 25: expected 1 fields, saw 2\\nSkipping line 26: expected 1 fields, saw 2\\nSkipping line 27: expected 1 fields, saw 2\\nSkipping line 28: expected 1 fields, saw 2\\nSkipping line 29: expected 1 fields, saw 2\\nSkipping line 30: expected 1 fields, saw 2\\nSkipping line 31: expected 1 fields, saw 2\\nSkipping line 32: expected 1 fields, saw 2\\nSkipping line 33: expected 1 fields, saw 2\\nSkipping line 34: expected 1 fields, saw 2\\nSkipping line 35: expected 1 fields, saw 2\\nSkipping line 36: expected 1 fields, saw 2\\nSkipping line 37: expected 1 fields, saw 2\\nSkipping line 38: expected 1 fields, saw 2\\nSkipping line 39: expected 1 fields, saw 2\\nSkipping line 40: expected 1 fields, saw 2\\nSkipping line 41: expected 1 fields, saw 2\\nSkipping line 42: expected 1 fields, saw 2\\nSkipping line 43: expected 1 fields, saw 2\\nSkipping line 44: expected 1 fields, saw 2\\nSkipping line 45: expected 1 fields, saw 2\\nSkipping line 46: expected 1 fields, saw 2\\nSkipping line 47: expected 1 fields, saw 2\\nSkipping line 48: expected 1 fields, saw 2\\nSkipping line 49: expected 1 fields, saw 2\\nSkipping line 50: expected 1 fields, saw 2\\nSkipping line 51: expected 1 fields, saw 2\\nSkipping line 52: expected 1 fields, saw 2\\nSkipping line 53: expected 1 fields, saw 2\\nSkipping line 54: expected 1 fields, saw 2\\nSkipping line 55: expected 1 fields, saw 2\\nSkipping line 56: expected 1 fields, saw 2\\nSkipping line 57: expected 1 fields, saw 2\\nSkipping line 58: expected 1 fields, saw 2\\nSkipping line 59: expected 1 fields, saw 2\\nSkipping line 60: expected 1 fields, saw 2\\nSkipping line 61: expected 1 fields, saw 2\\nSkipping line 62: expected 1 fields, saw 2\\nSkipping line 63: expected 1 fields, saw 2\\nSkipping line 64: expected 1 fields, saw 2\\nSkipping line 65: expected 1 fields, saw 2\\nSkipping line 66: expected 1 fields, saw 2\\nSkipping line 67: expected 1 fields, saw 2\\nSkipping line 68: expected 1 fields, saw 2\\nSkipping line 69: expected 1 fields, saw 2\\nSkipping line 70: expected 1 fields, saw 2\\nSkipping line 71: expected 1 fields, saw 2\\nSkipping line 78: expected 1 fields, saw 2\\nSkipping line 79: expected 1 fields, saw 2\\nSkipping line 80: expected 1 fields, saw 2\\nSkipping line 81: expected 1 fields, saw 2\\nSkipping line 82: expected 1 fields, saw 2\\nSkipping line 83: expected 1 fields, saw 2\\nSkipping line 84: expected 1 fields, saw 2\\nSkipping line 85: expected 1 fields, saw 2\\nSkipping line 86: expected 1 fields, saw 2\\nSkipping line 87: expected 1 fields, saw 2\\nSkipping line 88: expected 1 fields, saw 2\\nSkipping line 89: expected 1 fields, saw 2\\nSkipping line 90: expected 1 fields, saw 2\\nSkipping line 91: expected 1 fields, saw 2\\nSkipping line 92: expected 1 fields, saw 2\\nSkipping line 93: expected 1 fields, saw 2\\nSkipping line 94: expected 1 fields, saw 2\\nSkipping line 95: expected 1 fields, saw 2\\nSkipping line 96: expected 1 fields, saw 2\\nSkipping line 97: expected 1 fields, saw 2\\nSkipping line 98: expected 1 fields, saw 2\\nSkipping line 99: expected 1 fields, saw 2\\nSkipping line 100: expected 1 fields, saw 2\\nSkipping line 101: expected 1 fields, saw 2\\nSkipping line 102: expected 1 fields, saw 2\\nSkipping line 103: expected 1 fields, saw 2\\nSkipping line 104: expected 1 fields, saw 2\\nSkipping line 105: expected 1 fields, saw 2\\nSkipping line 106: expected 1 fields, saw 2\\nSkipping line 107: expected 1 fields, saw 2\\nSkipping line 108: expected 1 fields, saw 2\\nSkipping line 109: expected 1 fields, saw 2\\nSkipping line 110: expected 1 fields, saw 2\\nSkipping line 111: expected 1 fields, saw 2\\nSkipping line 112: expected 1 fields, saw 2\\nSkipping line 113: expected 1 fields, saw 2\\nSkipping line 114: expected 1 fields, saw 2\\nSkipping line 115: expected 1 fields, saw 2\\nSkipping line 116: expected 1 fields, saw 2\\nSkipping line 117: expected 1 fields, saw 2\\nSkipping line 118: expected 1 fields, saw 2\\nSkipping line 119: expected 1 fields, saw 2\\nSkipping line 120: expected 1 fields, saw 2\\nSkipping line 121: expected 1 fields, saw 2\\nSkipping line 122: expected 1 fields, saw 2\\nSkipping line 123: expected 1 fields, saw 2\\nSkipping line 126: expected 1 fields, saw 2\\nSkipping line 129: expected 1 fields, saw 2\\nSkipping line 132: expected 1 fields, saw 2\\nSkipping line 133: expected 1 fields, saw 2\\nSkipping line 134: expected 1 fields, saw 2\\nSkipping line 135: expected 1 fields, saw 2\\nSkipping line 136: expected 1 fields, saw 2\\nSkipping line 137: expected 1 fields, saw 2\\nSkipping line 138: expected 1 fields, saw 2\\nSkipping line 139: expected 1 fields, saw 2\\nSkipping line 140: expected 1 fields, saw 2\\nSkipping line 141: expected 1 fields, saw 2\\nSkipping line 142: expected 1 fields, saw 2\\nSkipping line 144: expected 1 fields, saw 2\\nSkipping line 147: expected 1 fields, saw 2\\nSkipping line 150: expected 1 fields, saw 2\\nSkipping line 153: expected 1 fields, saw 2\\nSkipping line 156: expected 1 fields, saw 2\\nSkipping line 157: expected 1 fields, saw 2\\nSkipping line 158: expected 1 fields, saw 2\\nSkipping line 161: expected 1 fields, saw 2\\nSkipping line 162: expected 1 fields, saw 2\\nSkipping line 163: expected 1 fields, saw 2\\nSkipping line 164: expected 1 fields, saw 2\\nSkipping line 165: expected 1 fields, saw 2\\nSkipping line 166: expected 1 fields, saw 2\\nSkipping line 167: expected 1 fields, saw 2\\nSkipping line 173: expected 1 fields, saw 2\\nSkipping line 174: expected 1 fields, saw 2\\nSkipping line 175: expected 1 fields, saw 2\\nSkipping line 176: expected 1 fields, saw 2\\nSkipping line 177: expected 1 fields, saw 2\\nSkipping line 178: expected 1 fields, saw 2\\nSkipping line 179: expected 1 fields, saw 2\\nSkipping line 185: expected 1 fields, saw 2\\nSkipping line 186: expected 1 fields, saw 2\\nSkipping line 187: expected 1 fields, saw 2\\nSkipping line 188: expected 1 fields, saw 2\\nSkipping line 189: expected 1 fields, saw 2\\nSkipping line 190: expected 1 fields, saw 2\\nSkipping line 191: expected 1 fields, saw 2\\nSkipping line 197: expected 1 fields, saw 2\\nSkipping line 198: expected 1 fields, saw 2\\nSkipping line 199: expected 1 fields, saw 2\\nSkipping line 200: expected 1 fields, saw 2\\nSkipping line 201: expected 1 fields, saw 2\\nSkipping line 202: expected 1 fields, saw 2\\nSkipping line 203: expected 1 fields, saw 2\\nSkipping line 209: expected 1 fields, saw 2\\nSkipping line 210: expected 1 fields, saw 2\\nSkipping line 211: expected 1 fields, saw 2\\nSkipping line 212: expected 1 fields, saw 2\\nSkipping line 213: expected 1 fields, saw 2\\nSkipping line 214: expected 1 fields, saw 2\\nSkipping line 215: expected 1 fields, saw 2\\nSkipping line 222: expected 1 fields, saw 2\\nSkipping line 223: expected 1 fields, saw 2\\nSkipping line 224: expected 1 fields, saw 2\\nSkipping line 225: expected 1 fields, saw 2\\nSkipping line 226: expected 1 fields, saw 2\\nSkipping line 227: expected 1 fields, saw 2\\nSkipping line 228: expected 1 fields, saw 2\\nSkipping line 229: expected 1 fields, saw 2\\nSkipping line 230: expected 1 fields, saw 2\\nSkipping line 231: expected 1 fields, saw 2\\nSkipping line 232: expected 1 fields, saw 2\\nSkipping line 233: expected 1 fields, saw 2\\nSkipping line 234: expected 1 fields, saw 2\\nSkipping line 235: expected 1 fields, saw 2\\nSkipping line 236: expected 1 fields, saw 2\\nSkipping line 237: expected 1 fields, saw 2\\nSkipping line 238: expected 1 fields, saw 2\\nSkipping line 239: expected 1 fields, saw 2\\nSkipping line 240: expected 1 fields, saw 2\\nSkipping line 241: expected 1 fields, saw 2\\nSkipping line 242: expected 1 fields, saw 2\\nSkipping line 243: expected 1 fields, saw 2\\nSkipping line 246: expected 1 fields, saw 2\\nSkipping line 249: expected 1 fields, saw 2\\nSkipping line 252: expected 1 fields, saw 2\\nSkipping line 255: expected 1 fields, saw 2\\nSkipping line 256: expected 1 fields, saw 2\\nSkipping line 257: expected 1 fields, saw 2\\nSkipping line 258: expected 1 fields, saw 2\\nSkipping line 259: expected 1 fields, saw 2\\nSkipping line 260: expected 1 fields, saw 2\\nSkipping line 261: expected 1 fields, saw 2\\nSkipping line 262: expected 1 fields, saw 2\\nSkipping line 263: expected 1 fields, saw 2\\nSkipping line 264: expected 1 fields, saw 2\\nSkipping line 265: expected 1 fields, saw 2\\nSkipping line 266: expected 1 fields, saw 2\\nSkipping line 267: expected 1 fields, saw 2\\nSkipping line 268: expected 1 fields, saw 2\\nSkipping line 269: expected 1 fields, saw 2\\nSkipping line 270: expected 1 fields, saw 2\\nSkipping line 271: expected 1 fields, saw 2\\nSkipping line 272: expected 1 fields, saw 2\\nSkipping line 273: expected 1 fields, saw 2\\nSkipping line 274: expected 1 fields, saw 2\\nSkipping line 275: expected 1 fields, saw 2\\nSkipping line 276: expected 1 fields, saw 2\\nSkipping line 279: expected 1 fields, saw 2\\nSkipping line 282: expected 1 fields, saw 2\\nSkipping line 285: expected 1 fields, saw 2\\nSkipping line 288: expected 1 fields, saw 2\\nSkipping line 289: expected 1 fields, saw 2\\nSkipping line 290: expected 1 fields, saw 2\\nSkipping line 291: expected 1 fields, saw 2\\nSkipping line 292: expected 1 fields, saw 2\\nSkipping line 293: expected 1 fields, saw 2\\nSkipping line 294: expected 1 fields, saw 2\\nSkipping line 295: expected 1 fields, saw 2\\nSkipping line 296: expected 1 fields, saw 2\\nSkipping line 297: expected 1 fields, saw 2\\nSkipping line 298: expected 1 fields, saw 2\\nSkipping line 299: expected 1 fields, saw 2\\nSkipping line 300: expected 1 fields, saw 2\\nSkipping line 301: expected 1 fields, saw 2\\nSkipping line 302: expected 1 fields, saw 2\\nSkipping line 303: expected 1 fields, saw 2\\nSkipping line 304: expected 1 fields, saw 2\\nSkipping line 305: expected 1 fields, saw 2\\nSkipping line 306: expected 1 fields, saw 2\\nSkipping line 307: expected 1 fields, saw 2\\nSkipping line 308: expected 1 fields, saw 2\\nSkipping line 309: expected 1 fields, saw 2\\nSkipping line 312: expected 1 fields, saw 2\\nSkipping line 315: expected 1 fields, saw 2\\nSkipping line 318: expected 1 fields, saw 2\\nSkipping line 321: expected 1 fields, saw 2\\nSkipping line 322: expected 1 fields, saw 2\\nSkipping line 323: expected 1 fields, saw 2\\nSkipping line 324: expected 1 fields, saw 2\\nSkipping line 325: expected 1 fields, saw 2\\nSkipping line 326: expected 1 fields, saw 2\\nSkipping line 327: expected 1 fields, saw 2\\nSkipping line 328: expected 1 fields, saw 2\\nSkipping line 329: expected 1 fields, saw 2\\nSkipping line 330: expected 1 fields, saw 2\\nSkipping line 331: expected 1 fields, saw 2\\nSkipping line 332: expected 1 fields, saw 2\\nSkipping line 333: expected 1 fields, saw 2\\nSkipping line 334: expected 1 fields, saw 2\\nSkipping line 335: expected 1 fields, saw 2\\nSkipping line 336: expected 1 fields, saw 2\\nSkipping line 337: expected 1 fields, saw 2\\nSkipping line 338: expected 1 fields, saw 2\\nSkipping line 339: expected 1 fields, saw 2\\nSkipping line 340: expected 1 fields, saw 2\\nSkipping line 341: expected 1 fields, saw 2\\nSkipping line 342: expected 1 fields, saw 2\\nSkipping line 345: expected 1 fields, saw 2\\nSkipping line 348: expected 1 fields, saw 2\\nSkipping line 351: expected 1 fields, saw 2\\nSkipping line 354: expected 1 fields, saw 2\\nSkipping line 355: expected 1 fields, saw 2\\nSkipping line 356: expected 1 fields, saw 2\\nSkipping line 357: expected 1 fields, saw 2\\nSkipping line 358: expected 1 fields, saw 2\\nSkipping line 359: expected 1 fields, saw 2\\nSkipping line 360: expected 1 fields, saw 2\\nSkipping line 361: expected 1 fields, saw 2\\nSkipping line 362: expected 1 fields, saw 2\\nSkipping line 363: expected 1 fields, saw 2\\nSkipping line 364: expected 1 fields, saw 2\\nSkipping line 365: expected 1 fields, saw 2\\nSkipping line 366: expected 1 fields, saw 2\\nSkipping line 367: expected 1 fields, saw 2\\nSkipping line 368: expected 1 fields, saw 2\\nSkipping line 369: expected 1 fields, saw 2\\nSkipping line 370: expected 1 fields, saw 2\\nSkipping line 371: expected 1 fields, saw 2\\nSkipping line 372: expected 1 fields, saw 2\\nSkipping line 373: expected 1 fields, saw 2\\nSkipping line 374: expected 1 fields, saw 2\\nSkipping line 375: expected 1 fields, saw 2\\nSkipping line 378: expected 1 fields, saw 2\\nSkipping line 381: expected 1 fields, saw 2\\nSkipping line 384: expected 1 fields, saw 2\\nSkipping line 387: expected 1 fields, saw 2\\nSkipping line 388: expected 1 fields, saw 2\\nSkipping line 389: expected 1 fields, saw 2\\nSkipping line 390: expected 1 fields, saw 2\\nSkipping line 391: expected 1 fields, saw 2\\nSkipping line 392: expected 1 fields, saw 2\\nSkipping line 393: expected 1 fields, saw 2\\nSkipping line 394: expected 1 fields, saw 2\\nSkipping line 395: expected 1 fields, saw 2\\nSkipping line 396: expected 1 fields, saw 2\\nSkipping line 397: expected 1 fields, saw 2\\nSkipping line 398: expected 1 fields, saw 2\\nSkipping line 399: expected 1 fields, saw 2\\nSkipping line 400: expected 1 fields, saw 2\\nSkipping line 401: expected 1 fields, saw 2\\nSkipping line 402: expected 1 fields, saw 2\\nSkipping line 403: expected 1 fields, saw 2\\nSkipping line 404: expected 1 fields, saw 2\\nSkipping line 405: expected 1 fields, saw 2\\nSkipping line 406: expected 1 fields, saw 2\\nSkipping line 407: expected 1 fields, saw 2\\nSkipping line 408: expected 1 fields, saw 2\\nSkipping line 411: expected 1 fields, saw 2\\nSkipping line 414: expected 1 fields, saw 2\\nSkipping line 417: expected 1 fields, saw 2\\nSkipping line 420: expected 1 fields, saw 2\\nSkipping line 421: expected 1 fields, saw 2\\nSkipping line 422: expected 1 fields, saw 2\\nSkipping line 423: expected 1 fields, saw 2\\nSkipping line 424: expected 1 fields, saw 2\\nSkipping line 425: expected 1 fields, saw 2\\nSkipping line 426: expected 1 fields, saw 2\\nSkipping line 427: expected 1 fields, saw 2\\nSkipping line 428: expected 1 fields, saw 2\\nSkipping line 429: expected 1 fields, saw 2\\nSkipping line 430: expected 1 fields, saw 2\\nSkipping line 431: expected 1 fields, saw 2\\nSkipping line 432: expected 1 fields, saw 2\\nSkipping line 433: expected 1 fields, saw 2\\nSkipping line 434: expected 1 fields, saw 2\\nSkipping line 435: expected 1 fields, saw 2\\nSkipping line 436: expected 1 fields, saw 2\\nSkipping line 437: expected 1 fields, saw 2\\nSkipping line 438: expected 1 fields, saw 2\\nSkipping line 439: expected 1 fields, saw 2\\nSkipping line 440: expected 1 fields, saw 2\\nSkipping line 441: expected 1 fields, saw 2\\nSkipping line 444: expected 1 fields, saw 2\\nSkipping line 447: expected 1 fields, saw 2\\nSkipping line 450: expected 1 fields, saw 2\\nSkipping line 453: expected 1 fields, saw 2\\nSkipping line 454: expected 1 fields, saw 2\\nSkipping line 455: expected 1 fields, saw 2\\nSkipping line 456: expected 1 fields, saw 2\\nSkipping line 457: expected 1 fields, saw 2\\nSkipping line 458: expected 1 fields, saw 2\\nSkipping line 459: expected 1 fields, saw 2\\nSkipping line 460: expected 1 fields, saw 2\\nSkipping line 461: expected 1 fields, saw 2\\nSkipping line 462: expected 1 fields, saw 2\\nSkipping line 463: expected 1 fields, saw 2\\nSkipping line 464: expected 1 fields, saw 2\\nSkipping line 465: expected 1 fields, saw 2\\nSkipping line 466: expected 1 fields, saw 2\\nSkipping line 467: expected 1 fields, saw 2\\nSkipping line 468: expected 1 fields, saw 2\\nSkipping line 469: expected 1 fields, saw 2\\nSkipping line 470: expected 1 fields, saw 2\\nSkipping line 471: expected 1 fields, saw 2\\nSkipping line 472: expected 1 fields, saw 2\\nSkipping line 473: expected 1 fields, saw 2\\nSkipping line 474: expected 1 fields, saw 2\\nSkipping line 477: expected 1 fields, saw 2\\nSkipping line 480: expected 1 fields, saw 2\\nSkipping line 483: expected 1 fields, saw 2\\nSkipping line 486: expected 1 fields, saw 2\\nSkipping line 487: expected 1 fields, saw 2\\nSkipping line 488: expected 1 fields, saw 2\\nSkipping line 489: expected 1 fields, saw 2\\nSkipping line 490: expected 1 fields, saw 2\\nSkipping line 491: expected 1 fields, saw 2\\nSkipping line 492: expected 1 fields, saw 2\\nSkipping line 493: expected 1 fields, saw 2\\nSkipping line 494: expected 1 fields, saw 2\\nSkipping line 495: expected 1 fields, saw 2\\nSkipping line 496: expected 1 fields, saw 2\\nSkipping line 497: expected 1 fields, saw 2\\nSkipping line 498: expected 1 fields, saw 2\\nSkipping line 499: expected 1 fields, saw 2\\nSkipping line 500: expected 1 fields, saw 2\\nSkipping line 501: expected 1 fields, saw 2\\nSkipping line 502: expected 1 fields, saw 2\\nSkipping line 503: expected 1 fields, saw 2\\nSkipping line 504: expected 1 fields, saw 2\\nSkipping line 505: expected 1 fields, saw 2\\nSkipping line 506: expected 1 fields, saw 2\\nSkipping line 507: expected 1 fields, saw 2\\nSkipping line 510: expected 1 fields, saw 2\\nSkipping line 513: expected 1 fields, saw 2\\nSkipping line 516: expected 1 fields, saw 2\\nSkipping line 519: expected 1 fields, saw 2\\nSkipping line 520: expected 1 fields, saw 2\\nSkipping line 521: expected 1 fields, saw 2\\nSkipping line 522: expected 1 fields, saw 2\\nSkipping line 523: expected 1 fields, saw 2\\nSkipping line 524: expected 1 fields, saw 2\\nSkipping line 525: expected 1 fields, saw 2\\nSkipping line 526: expected 1 fields, saw 2\\nSkipping line 527: expected 1 fields, saw 2\\nSkipping line 528: expected 1 fields, saw 2\\nSkipping line 529: expected 1 fields, saw 2\\nSkipping line 530: expected 1 fields, saw 2\\nSkipping line 531: expected 1 fields, saw 2\\nSkipping line 532: expected 1 fields, saw 2\\nSkipping line 533: expected 1 fields, saw 2\\nSkipping line 534: expected 1 fields, saw 2\\nSkipping line 535: expected 1 fields, saw 2\\nSkipping line 536: expected 1 fields, saw 2\\nSkipping line 537: expected 1 fields, saw 2\\nSkipping line 538: expected 1 fields, saw 2\\nSkipping line 539: expected 1 fields, saw 2\\nSkipping line 540: expected 1 fields, saw 2\\nSkipping line 543: expected 1 fields, saw 2\\nSkipping line 546: expected 1 fields, saw 2\\nSkipping line 549: expected 1 fields, saw 2\\nSkipping line 552: expected 1 fields, saw 2\\nSkipping line 553: expected 1 fields, saw 2\\nSkipping line 554: expected 1 fields, saw 2\\nSkipping line 555: expected 1 fields, saw 2\\nSkipping line 556: expected 1 fields, saw 2\\nSkipping line 557: expected 1 fields, saw 2\\nSkipping line 558: expected 1 fields, saw 2\\nSkipping line 559: expected 1 fields, saw 2\\nSkipping line 560: expected 1 fields, saw 2\\nSkipping line 561: expected 1 fields, saw 2\\nSkipping line 562: expected 1 fields, saw 2\\nSkipping line 563: expected 1 fields, saw 2\\nSkipping line 564: expected 1 fields, saw 2\\nSkipping line 565: expected 1 fields, saw 2\\nSkipping line 566: expected 1 fields, saw 2\\nSkipping line 567: expected 1 fields, saw 2\\nSkipping line 568: expected 1 fields, saw 2\\nSkipping line 569: expected 1 fields, saw 2\\nSkipping line 570: expected 1 fields, saw 2\\nSkipping line 571: expected 1 fields, saw 2\\nSkipping line 572: expected 1 fields, saw 2\\nSkipping line 573: expected 1 fields, saw 2\\nSkipping line 576: expected 1 fields, saw 2\\nSkipping line 579: expected 1 fields, saw 2\\nSkipping line 582: expected 1 fields, saw 2\\nSkipping line 585: expected 1 fields, saw 2\\nSkipping line 586: expected 1 fields, saw 2\\nSkipping line 587: expected 1 fields, saw 2\\nSkipping line 588: expected 1 fields, saw 2\\nSkipping line 589: expected 1 fields, saw 2\\nSkipping line 590: expected 1 fields, saw 2\\nSkipping line 591: expected 1 fields, saw 2\\nSkipping line 592: expected 1 fields, saw 2\\nSkipping line 593: expected 1 fields, saw 2\\nSkipping line 594: expected 1 fields, saw 2\\nSkipping line 595: expected 1 fields, saw 2\\nSkipping line 596: expected 1 fields, saw 2\\nSkipping line 597: expected 1 fields, saw 2\\nSkipping line 598: expected 1 fields, saw 2\\nSkipping line 599: expected 1 fields, saw 2\\nSkipping line 600: expected 1 fields, saw 2\\nSkipping line 601: expected 1 fields, saw 2\\nSkipping line 602: expected 1 fields, saw 2\\nSkipping line 603: expected 1 fields, saw 2\\nSkipping line 604: expected 1 fields, saw 2\\nSkipping line 605: expected 1 fields, saw 2\\nSkipping line 606: expected 1 fields, saw 2\\nSkipping line 609: expected 1 fields, saw 2\\nSkipping line 612: expected 1 fields, saw 2\\nSkipping line 615: expected 1 fields, saw 2\\nSkipping line 618: expected 1 fields, saw 2\\nSkipping line 619: expected 1 fields, saw 2\\nSkipping line 620: expected 1 fields, saw 2\\nSkipping line 621: expected 1 fields, saw 2\\nSkipping line 622: expected 1 fields, saw 2\\nSkipping line 623: expected 1 fields, saw 2\\nSkipping line 624: expected 1 fields, saw 2\\nSkipping line 625: expected 1 fields, saw 2\\nSkipping line 626: expected 1 fields, saw 2\\nSkipping line 627: expected 1 fields, saw 2\\nSkipping line 628: expected 1 fields, saw 2\\nSkipping line 629: expected 1 fields, saw 2\\nSkipping line 630: expected 1 fields, saw 2\\nSkipping line 631: expected 1 fields, saw 2\\nSkipping line 632: expected 1 fields, saw 2\\nSkipping line 633: expected 1 fields, saw 2\\nSkipping line 634: expected 1 fields, saw 2\\nSkipping line 635: expected 1 fields, saw 2\\nSkipping line 636: expected 1 fields, saw 2\\nSkipping line 637: expected 1 fields, saw 2\\nSkipping line 638: expected 1 fields, saw 2\\nSkipping line 639: expected 1 fields, saw 2\\nSkipping line 642: expected 1 fields, saw 2\\nSkipping line 645: expected 1 fields, saw 2\\nSkipping line 648: expected 1 fields, saw 2\\nSkipping line 651: expected 1 fields, saw 2\\nSkipping line 652: expected 1 fields, saw 2\\nSkipping line 653: expected 1 fields, saw 2\\nSkipping line 654: expected 1 fields, saw 2\\nSkipping line 655: expected 1 fields, saw 2\\nSkipping line 656: expected 1 fields, saw 2\\nSkipping line 657: expected 1 fields, saw 2\\nSkipping line 658: expected 1 fields, saw 2\\nSkipping line 659: expected 1 fields, saw 2\\nSkipping line 660: expected 1 fields, saw 2\\nSkipping line 661: expected 1 fields, saw 2\\nSkipping line 662: expected 1 fields, saw 2\\nSkipping line 663: expected 1 fields, saw 2\\nSkipping line 664: expected 1 fields, saw 2\\nSkipping line 665: expected 1 fields, saw 2\\nSkipping line 666: expected 1 fields, saw 2\\nSkipping line 667: expected 1 fields, saw 2\\nSkipping line 668: expected 1 fields, saw 2\\nSkipping line 669: expected 1 fields, saw 2\\nSkipping line 670: expected 1 fields, saw 2\\nSkipping line 671: expected 1 fields, saw 2\\nSkipping line 672: expected 1 fields, saw 2\\nSkipping line 675: expected 1 fields, saw 2\\nSkipping line 678: expected 1 fields, saw 2\\nSkipping line 681: expected 1 fields, saw 2\\nSkipping line 684: expected 1 fields, saw 2\\nSkipping line 685: expected 1 fields, saw 2\\nSkipping line 686: expected 1 fields, saw 2\\nSkipping line 687: expected 1 fields, saw 2\\nSkipping line 688: expected 1 fields, saw 2\\nSkipping line 689: expected 1 fields, saw 2\\nSkipping line 690: expected 1 fields, saw 2\\nSkipping line 691: expected 1 fields, saw 2\\nSkipping line 692: expected 1 fields, saw 2\\nSkipping line 693: expected 1 fields, saw 2\\nSkipping line 694: expected 1 fields, saw 2\\nSkipping line 695: expected 1 fields, saw 2\\nSkipping line 696: expected 1 fields, saw 2\\nSkipping line 697: expected 1 fields, saw 2\\nSkipping line 698: expected 1 fields, saw 2\\nSkipping line 699: expected 1 fields, saw 2\\nSkipping line 700: expected 1 fields, saw 2\\nSkipping line 701: expected 1 fields, saw 2\\nSkipping line 702: expected 1 fields, saw 2\\nSkipping line 703: expected 1 fields, saw 2\\nSkipping line 704: expected 1 fields, saw 2\\nSkipping line 705: expected 1 fields, saw 2\\nSkipping line 708: expected 1 fields, saw 2\\nSkipping line 711: expected 1 fields, saw 2\\nSkipping line 714: expected 1 fields, saw 2\\nSkipping line 717: expected 1 fields, saw 2\\nSkipping line 718: expected 1 fields, saw 2\\nSkipping line 719: expected 1 fields, saw 2\\nSkipping line 720: expected 1 fields, saw 2\\nSkipping line 721: expected 1 fields, saw 2\\nSkipping line 722: expected 1 fields, saw 2\\nSkipping line 723: expected 1 fields, saw 2\\nSkipping line 724: expected 1 fields, saw 2\\nSkipping line 725: expected 1 fields, saw 2\\nSkipping line 726: expected 1 fields, saw 2\\nSkipping line 727: expected 1 fields, saw 2\\nSkipping line 728: expected 1 fields, saw 2\\nSkipping line 729: expected 1 fields, saw 2\\nSkipping line 730: expected 1 fields, saw 2\\nSkipping line 731: expected 1 fields, saw 2\\nSkipping line 732: expected 1 fields, saw 2\\nSkipping line 733: expected 1 fields, saw 2\\nSkipping line 734: expected 1 fields, saw 2\\nSkipping line 735: expected 1 fields, saw 2\\nSkipping line 736: expected 1 fields, saw 2\\nSkipping line 737: expected 1 fields, saw 2\\nSkipping line 738: expected 1 fields, saw 2\\nSkipping line 741: expected 1 fields, saw 2\\nSkipping line 744: expected 1 fields, saw 2\\nSkipping line 747: expected 1 fields, saw 2\\n'\n"
     ]
    }
   ],
   "source": [
    "# Read and parse a sample wifistats.txt file\n",
    "\n",
    "f = open(\"wifistats.txt\",\"r\")\n",
    "\n",
    "# read text file into pandas DataFrame\n",
    "#df = pd.read_table(\"wifistats.txt\", delimiter=\"=\")\n",
    "df = pd.read_csv('wifistats.txt',delimiter='=',error_bad_lines=False)\n",
    "\n",
    "#df.drop(df.iloc[:,6:], inplace=True, axis=1)\n",
    "\n",
    "# The DataFrame should be a 2 dimensional data frame (m x n)\n",
    "# Here m denotes time instant, n denotes features\n",
    "# Each feature could be msdu_count_tqm from wifistats1, ppdu_recvd from wifistats2 ...\n",
    "\n",
    "print(df.head())\n",
    "\n",
    "# data=collections.defaultdict(list)\n",
    "# temp=[]\n",
    "\n",
    "# for line in  f:\n",
    "#     if len(line)>1:\n",
    "#         if 'UTC 2021' in line and temp:\n",
    "#             data[line].append(temp)\n",
    "#             temp=[] \n",
    "#         elif '=' in line:\n",
    "#             temp.append(line)\n",
    "\n",
    "# f.close()\n",
    "\n",
    "# df = pd.DataFrame(data)\n",
    "\n",
    "# df = df.transpose()\n",
    "\n"
   ]
  },
  {
   "cell_type": "code",
   "execution_count": 71,
   "metadata": {},
   "outputs": [
    {
     "name": "stdout",
     "output_type": "stream",
     "text": [
      "          0         1         2         3          4         5          6   \\\n",
      "0  -6.041548  3.609247  1.506993 -6.513533  11.265078 -5.353320 -11.105749   \n",
      "1  -0.560705  3.304792 -6.768491  6.736240  -6.919701 -0.735412  -7.811359   \n",
      "2  -0.056095  1.777172 -7.322759  6.470567  -6.261355 -1.322752 -10.748589   \n",
      "3  -9.822486  4.525148 -2.507987 -1.911735   8.340911 -0.389372   0.537304   \n",
      "4 -10.634530  4.881736 -2.341326 -1.613997   8.549680  0.150750  -1.074216   \n",
      "\n",
      "         7         8         9   ...        90        91        92        93  \\\n",
      "0  3.257989  4.854248 -3.671610  ...  6.152391 -5.545865 -0.146510  2.363719   \n",
      "1  6.699234 -2.065405 -6.180401  ...  8.376138 -3.314249  2.583817 -8.133240   \n",
      "2  6.530739  1.792542 -5.725650  ...  7.462491 -2.129655  2.046012 -7.986555   \n",
      "3  3.658580 -3.135963 -8.586224  ...  7.382021 -2.202490  4.318225  9.440482   \n",
      "4  4.293604 -1.534483 -8.206895  ...  6.770624 -0.280574  5.338299  6.942928   \n",
      "\n",
      "         94        95         96        97        98        99  \n",
      "0 -8.126599 -3.751905  10.171406  2.239962 -7.587060 -3.745589  \n",
      "1  8.334390  7.981298   5.474066 -1.414542  8.264113  4.794799  \n",
      "2  7.936634  6.466560   4.144103  0.964804  9.827437  2.880366  \n",
      "3 -3.430071 -0.127169   7.429752 -1.491546 -4.443194 -8.806331  \n",
      "4 -2.783729  1.237095   5.884211 -3.826641 -3.159909 -8.916137  \n",
      "\n",
      "[5 rows x 100 columns]\n"
     ]
    },
    {
     "data": {
      "text/plain": [
       "2"
      ]
     },
     "execution_count": 71,
     "metadata": {},
     "output_type": "execute_result"
    }
   ],
   "source": [
    "# Sample dataset\n",
    "blobs, labels = make_blobs(n_samples=2000, n_features=100)\n",
    "\n",
    "# Model evaluation - need to replace \"blobs\" with wifistats dataset. Here blobs is 2000 x 100\n",
    "\n",
    "df = pd.DataFrame(blobs)\n",
    "print(df.head())\n",
    "\n",
    "clusterer.fit(df)\n",
    "hdbscan.HDBSCAN(algorithm='best', alpha=1.0, approx_min_span_tree=True,\n",
    "    gen_min_span_tree=False, leaf_size=40,\n",
    "    metric='euclidean', min_cluster_size=5, min_samples=None, p=None)\n",
    "clusterer.labels_\n",
    "clusterer.labels_.max()\n"
   ]
  },
  {
   "cell_type": "code",
   "execution_count": 69,
   "metadata": {},
   "outputs": [],
   "source": [
    "# Since the dataset is multidimensional, in order to visaulize we transform into 2 dimensions using UMAP \n",
    "# UMAP: Uniform Manifold Approximation and Projection for Dimension Reduction\n",
    "\n",
    "standard_embedding = umap.UMAP(random_state=42).fit_transform(df)\n"
   ]
  },
  {
   "cell_type": "code",
   "execution_count": 72,
   "metadata": {},
   "outputs": [],
   "source": [
    "clusterable_embedding = umap.UMAP(\n",
    "    n_neighbors=30,\n",
    "    min_dist=0.0,\n",
    "    n_components=2,\n",
    "    random_state=42,\n",
    ").fit_transform(df)\n",
    "\n",
    "labels = hdbscan.HDBSCAN(\n",
    "    min_samples=10,\n",
    "    min_cluster_size=500,\n",
    ").fit_predict(clusterable_embedding)"
   ]
  },
  {
   "cell_type": "code",
   "execution_count": 73,
   "metadata": {},
   "outputs": [
    {
     "data": {
      "image/png": "[encoded data removed]",
      "text/plain": [
       "<Figure size 432x288 with 1 Axes>"
      ]
     },
     "metadata": {
      "needs_background": "light"
     },
     "output_type": "display_data"
    }
   ],
   "source": [
    "clustered = (labels >= 0)\n",
    "# plt.scatter(standard_embedding[~clustered, 0],\n",
    "#             standard_embedding[~clustered, 1],\n",
    "#             color=(0.5, 0.5, 0.5),\n",
    "#             s=0.1,\n",
    "#             alpha=0.5)\n",
    "plt.scatter(standard_embedding[clustered, 0],\n",
    "            standard_embedding[clustered, 1],\n",
    "            c=labels[clustered],\n",
    "            s=0.1,\n",
    "            cmap='Spectral');"
   ]
  },
  {
   "cell_type": "code",
   "execution_count": null,
   "metadata": {},
   "outputs": [],
   "source": []
  }
 ],
 "metadata": {
  "kernelspec": {
   "display_name": "Python 3",
   "language": "python",
   "name": "python3"
  },
  "language_info": {
   "codemirror_mode": {
    "name": "ipython",
    "version": 3
   },
   "file_extension": ".py",
   "mimetype": "text/x-python",
   "name": "python",
   "nbconvert_exporter": "python",
   "pygments_lexer": "ipython3",
   "version": "3.8.5"
  }
 },
 "nbformat": 4,
 "nbformat_minor": 4
}
